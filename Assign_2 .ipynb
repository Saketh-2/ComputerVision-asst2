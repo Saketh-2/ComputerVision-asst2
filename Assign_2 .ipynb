{
  "cells": [
    {
      "cell_type": "markdown",
      "metadata": {
        "id": "G1GnVbADePDI"
      },
      "source": [
        "Question 1\n"
      ]
    },
    {
      "cell_type": "code",
      "execution_count": 58,
      "metadata": {
        "id": "OZmfDi3hePDK"
      },
      "outputs": [],
      "source": [
        "import cv2 as cv\n",
        "vidcap = cv.VideoCapture(r'/content/drive/MyDrive/CV ASSTW/IMG-0907.MOV')\n",
        "check,image = vidcap.read()\n",
        "count = 0\n",
        "inc=0\n",
        "while check:\n",
        "    check,image = vidcap.read()\n",
        "    if count%30==0 :\n",
        "      inc+=1\n",
        "      image=cv.flip(image,-1)\n",
        "      cv.imwrite(r\"/content/drive/MyDrive/CV ASSTW/frame%d.jpg\" % inc, image)         \n",
        "    "
      ]
    },
    {
      "cell_type": "code",
      "source": [
        "from google.colab import drive\n",
        "drive.mount('/content/drive')"
      ],
      "metadata": {
        "colab": {
          "base_uri": "https://localhost:8080/",
          "height": 0
        },
        "id": "FQPF9wTWfY1h",
        "outputId": "d2293816-c9bf-4d73-e4a2-19e260beb58b"
      },
      "execution_count": 59,
      "outputs": [
        {
          "output_type": "stream",
          "name": "stdout",
          "text": [
            "Drive already mounted at /content/drive; to attempt to forcibly remount, call drive.mount(\"/content/drive\", force_remount=True).\n"
          ]
        }
      ]
    },
    {
      "cell_type": "markdown",
      "metadata": {
        "id": "TItLWtDYePDM"
      },
      "source": [
        "Ques-1-A"
      ]
    },
    {
      "cell_type": "code",
      "execution_count": 60,
      "metadata": {
        "colab": {
          "base_uri": "https://localhost:8080/",
          "height": 287
        },
        "id": "2maXr1pmePDM",
        "outputId": "1c99e66c-6f3a-49f4-9198-d8f428285c77"
      },
      "outputs": [
        {
          "output_type": "execute_result",
          "data": {
            "text/plain": [
              "<matplotlib.image.AxesImage at 0x7fd231e1aa90>"
            ]
          },
          "metadata": {},
          "execution_count": 60
        },
        {
          "output_type": "display_data",
          "data": {
            "text/plain": [
              "<Figure size 432x288 with 1 Axes>"
            ],
            "image/png": "[encoded data removed]"
          },
          "metadata": {
            "needs_background": "light"
          }
        }
      ],
      "source": [
        "import numpy as np\n",
        "import cv2 as cv\n",
        "from matplotlib import pyplot as plt\n",
        "img = cv.imread(r'/content/drive/MyDrive/CV ASSTW/frame8.jpg',0)\n",
        "edges = cv.Canny(img,100,200)\n",
        "plt.imshow(edges,cmap='gray')"
      ]
    },
    {
      "cell_type": "code",
      "execution_count": 61,
      "metadata": {
        "colab": {
          "base_uri": "https://localhost:8080/",
          "height": 287
        },
        "id": "tXrJSKs8ePDM",
        "outputId": "7f8914bf-9539-4af4-abd8-6ac8de4bb7b1"
      },
      "outputs": [
        {
          "output_type": "execute_result",
          "data": {
            "text/plain": [
              "<matplotlib.image.AxesImage at 0x7fd2320694f0>"
            ]
          },
          "metadata": {},
          "execution_count": 61
        },
        {
          "output_type": "display_data",
          "data": {
            "text/plain": [
              "<Figure size 432x288 with 1 Axes>"
            ],
            "image/png": "[encoded data removed]"
          },
          "metadata": {
            "needs_background": "light"
          }
        }
      ],
      "source": [
        "import numpy as np\n",
        "import cv2 as cv\n",
        "from matplotlib import pyplot as plt\n",
        "img = cv.imread(r'/content/drive/MyDrive/CV ASSTW/frame8.jpg',0)\n",
        "img1=img[1000:1400,500:750]\n",
        "edges = cv.Canny(img1,100,200)\n",
        "plt.imshow(edges,cmap='gray')"
      ]
    },
    {
      "cell_type": "markdown",
      "metadata": {
        "id": "Tz04ZXzjePDO"
      },
      "source": [
        "1A)"
      ]
    },
    {
      "cell_type": "markdown",
      "metadata": {
        "id": "gHbO0bUIePDO"
      },
      "source": [
        "Using Harris Corner Detection"
      ]
    },
    {
      "cell_type": "code",
      "execution_count": 62,
      "metadata": {
        "colab": {
          "base_uri": "https://localhost:8080/",
          "height": 0
        },
        "id": "kDnQbajQePDO",
        "outputId": "ff31e353-3275-4528-ac91-8cf7442fd914"
      },
      "outputs": [
        {
          "output_type": "execute_result",
          "data": {
            "text/plain": [
              "True"
            ]
          },
          "metadata": {},
          "execution_count": 62
        }
      ],
      "source": [
        "import numpy as np\n",
        "import cv2 as cv\n",
        "import matplotlib.pyplot as plt\n",
        "filename = r'/content/drive/MyDrive/CV ASSTW/frame8.jpg'\n",
        "img = cv.imread(filename)\n",
        "gray = cv.cvtColor(img,cv.COLOR_BGR2GRAY)\n",
        "gray = np.float32(gray)\n",
        "dst = cv.cornerHarris(gray,2,3,0.07)\n",
        "dst = cv.dilate(dst,None)\n",
        "img[dst>0.01*dst.max()]=[0,0,255]\n",
        "cv.imwrite('/content/drive/MyDrive/CV ASSTW/corners_harris.jpg',img)\n"
      ]
    },
    {
      "cell_type": "markdown",
      "metadata": {
        "id": "S-ZCpgxiePDP"
      },
      "source": [
        "Ques-1B)\n"
      ]
    },
    {
      "cell_type": "code",
      "execution_count": 63,
      "metadata": {
        "id": "KblDMmEYePDP"
      },
      "outputs": [],
      "source": [
        "import numpy as np\n",
        "import cv2 as cv\n",
        "from matplotlib import pyplot as plt\n",
        "MIN_MATCH_COUNT = 10\n",
        "img1 = cv.imread(r'/content/drive/MyDrive/CV ASSTW/frame8.jpg',0)  \n",
        "img2 = cv.imread(r'/content/drive/MyDrive/CV ASSTW/frame9.jpg',0)\n",
        "sift = cv.SIFT_create()\n",
        "kp1, des1 = sift.detectAndCompute(img1,None)\n",
        "kp2, des2 = sift.detectAndCompute(img2,None)\n",
        "FLANN_INDEX_KDTREE = 1\n",
        "index_params = dict(algorithm = FLANN_INDEX_KDTREE, trees = 5)\n",
        "search_params = dict(checks = 50)\n",
        "flann = cv.FlannBasedMatcher(index_params, search_params)\n",
        "matches = flann.knnMatch(des1,des2,k=2)\n",
        "good = []\n",
        "for m,n in matches:\n",
        "    if m.distance < 0.7*n.distance:\n",
        "        good.append(m)"
      ]
    },
    {
      "cell_type": "code",
      "execution_count": 64,
      "metadata": {
        "colab": {
          "base_uri": "https://localhost:8080/",
          "height": 0
        },
        "id": "wvUl-1tEePDP",
        "outputId": "fd831576-e946-4f1d-f777-864a2a34a20d"
      },
      "outputs": [
        {
          "output_type": "stream",
          "name": "stdout",
          "text": [
            "Homography Matrix\n",
            "[[ 9.13903178e-01 -3.47804823e-02 -3.04181703e+01]\n",
            " [-9.76474105e-02  9.08037165e-01  1.05175100e+02]\n",
            " [-5.78135586e-05 -1.93391733e-05  1.00000000e+00]]\n"
          ]
        }
      ],
      "source": [
        "if len(good)>MIN_MATCH_COUNT:\n",
        "    src_pts = np.float32([ kp1[m.queryIdx].pt for m in good ]).reshape(-1,1,2)\n",
        "    dst_pts = np.float32([ kp2[m.trainIdx].pt for m in good ]).reshape(-1,1,2)\n",
        "    M, mask = cv.findHomography(src_pts, dst_pts, cv.RANSAC,5.0)\n",
        "    matchesMask = mask.ravel().tolist()\n",
        "    h,w = img1.shape\n",
        "    pts = np.float32([ [0,0],[0,h-1],[w-1,h-1],[w-1,0] ]).reshape(-1,1,2)\n",
        "    dst = cv.perspectiveTransform(pts,M)\n",
        "    img2 = cv.polylines(img2,[np.int32(dst)],True,255,3, cv.LINE_AA)\n",
        "    print(\"Homography Matrix\")\n",
        "    print(M)\n",
        "else:\n",
        "    print( \"Not enough matches are found - {}/{}\".format(len(good), MIN_MATCH_COUNT) )\n",
        "    matchesMask = None"
      ]
    },
    {
      "cell_type": "code",
      "execution_count": 66,
      "metadata": {
        "colab": {
          "base_uri": "https://localhost:8080/",
          "height": 287
        },
        "id": "ZK6idImWePDP",
        "outputId": "7b631e98-348f-4f13-c1b3-08b010665b03"
      },
      "outputs": [
        {
          "output_type": "execute_result",
          "data": {
            "text/plain": [
              "<matplotlib.image.AxesImage at 0x7fd231d3feb0>"
            ]
          },
          "metadata": {},
          "execution_count": 66
        },
        {
          "output_type": "display_data",
          "data": {
            "text/plain": [
              "<Figure size 432x288 with 1 Axes>"
            ],
            "image/png": "[encoded data removed]"
          },
          "metadata": {
            "needs_background": "light"
          }
        }
      ],
      "source": [
        "draw_params = dict(matchColor = (0,255,0), \n",
        "                   singlePointColor = None,\n",
        "                   matchesMask = matchesMask, \n",
        "                   flags = 2)\n",
        "img3 = cv.drawMatches(img1,kp1,img2,kp2,good,None,**draw_params)\n",
        "cv.imwrite(r'/content/drive/MyDrive/CV ASSTW/matching_between_2_frames.jpg',img3)\n",
        "plt.imshow(img3, 'gray')\n",
        "#plt.show()"
      ]
    },
    {
      "cell_type": "markdown",
      "metadata": {
        "id": "DJvjZSFXePDQ"
      },
      "source": [
        "Que-2\n"
      ]
    },
    {
      "cell_type": "code",
      "execution_count": 67,
      "metadata": {
        "id": "TibFuUxxePDQ"
      },
      "outputs": [],
      "source": [
        "import cv2\n",
        "import matplotlib.pyplot as plt\n",
        "import numpy as np"
      ]
    },
    {
      "cell_type": "code",
      "execution_count": 68,
      "metadata": {
        "id": "rG-AE9G3ePDQ"
      },
      "outputs": [],
      "source": [
        "import cv2\n",
        "def pan_stich(image_paths,output_loc):\n",
        "\n",
        "    #image_paths=[r'E:\\GSU\\CV\\Assignment_2\\pics\\classroom_south2.jpg',r'E:\\GSU\\CV\\Assignment_2\\pics\\classroom_south3.jpg',r'E:\\GSU\\CV\\Assignment_2\\pics\\classroom_south4.jpg']\n",
        "    # initialized a list of images\n",
        "    imgs = []\n",
        "\n",
        "    for i in range(len(image_paths)):\n",
        "        imgs.append(cv2.imread(image_paths[i]))\n",
        "        imgs[i]=cv2.resize(imgs[i],(0,0),fx=0.4,fy=0.4)\n",
        "\n",
        "    stitchy=cv2.Stitcher.create()\n",
        "    (dummy,output)=stitchy.stitch(imgs)\n",
        "\n",
        "    if dummy != cv2.STITCHER_OK:\n",
        "        print(\"stitching ain't successful\")\n",
        "    else:\n",
        "        print('Your Panorama is ready!!!')\n",
        "\n",
        "    # final output\n",
        "    cv2.imwrite(output_loc+'/out.jpg',output)\n",
        "\n"
      ]
    },
    {
      "cell_type": "code",
      "execution_count": 69,
      "metadata": {
        "colab": {
          "base_uri": "https://localhost:8080/",
          "height": 0
        },
        "id": "1lRW1CN2ePDQ",
        "outputId": "bee6206e-971b-4f7e-fb2c-f38d7c5da41e"
      },
      "outputs": [
        {
          "output_type": "stream",
          "name": "stdout",
          "text": [
            "Your Panorama is ready!!!\n"
          ]
        }
      ],
      "source": [
        "loc=r'/content/drive/MyDrive/CV ASSTW/art'\n",
        "image_paths=['/content/drive/MyDrive/CV ASSTW/art/Art and humanities01_team6.jpg','/content/drive/MyDrive/CV ASSTW/art/Art and humanities02_team6.jpg','/content/drive/MyDrive/CV ASSTW/art/Art and humanities03_team6.jpg']\n",
        "image_dest=r'/content/drive/MyDrive/CV ASSTW/art'\n",
        "pan_stich(image_paths,image_dest)"
      ]
    },
    {
      "cell_type": "code",
      "execution_count": 70,
      "metadata": {
        "colab": {
          "base_uri": "https://localhost:8080/",
          "height": 0
        },
        "id": "vPtqGVaaePDQ",
        "outputId": "9ab55d65-3edf-4921-fc75-b226a44bdb7b"
      },
      "outputs": [
        {
          "output_type": "stream",
          "name": "stdout",
          "text": [
            "Your Panorama is ready!!!\n"
          ]
        }
      ],
      "source": [
        "loc=r'/content/drive/MyDrive/CV ASSTW/bookstore'\n",
        "image_paths=['/content/drive/MyDrive/CV ASSTW/bookstore/bookstore1.jpg','/content/drive/MyDrive/CV ASSTW/bookstore/bookstore2.jpg','/content/drive/MyDrive/CV ASSTW/bookstore/bookstore3.jpg']\n",
        "image_dest=r'/content/drive/MyDrive/CV ASSTW/bookstore'\n",
        "pan_stich(image_paths,image_dest)"
      ]
    },
    {
      "cell_type": "code",
      "execution_count": 71,
      "metadata": {
        "colab": {
          "base_uri": "https://localhost:8080/",
          "height": 0
        },
        "id": "BWJGhbocePDQ",
        "outputId": "08baa0ba-e026-46d1-eafa-eb3561bc9a5a"
      },
      "outputs": [
        {
          "output_type": "stream",
          "name": "stdout",
          "text": [
            "Your Panorama is ready!!!\n"
          ]
        }
      ],
      "source": [
        "loc=r'/content/drive/MyDrive/CV ASSTW/north'\n",
        "image_paths=['/content/drive/MyDrive/CV ASSTW/north/LibraryNorth_team06_1.jpeg','/content/drive/MyDrive/CV ASSTW/north/LibraryNorth_team06_2.jpeg','/content/drive/MyDrive/CV ASSTW/north/LibraryNorth_team06_3.jpeg']\n",
        "image_dest=r'/content/drive/MyDrive/CV ASSTW/north'\n",
        "pan_stich(image_paths,image_dest)"
      ]
    },
    {
      "cell_type": "code",
      "execution_count": 72,
      "metadata": {
        "colab": {
          "base_uri": "https://localhost:8080/",
          "height": 0
        },
        "id": "9ZLzlW-TePDR",
        "outputId": "c70aff1d-3e68-4804-9427-bc4b08638174"
      },
      "outputs": [
        {
          "output_type": "stream",
          "name": "stdout",
          "text": [
            "Your Panorama is ready!!!\n"
          ]
        }
      ],
      "source": [
        "loc=r'/content/drive/MyDrive/CV ASSTW/copyart'\n",
        "image_paths=['/content/drive/MyDrive/CV ASSTW/copyart/Copy of Art and humanities01_team6.jpg','/content/drive/MyDrive/CV ASSTW/copyart/Copy of Art and humanities02_team6.jpg','/content/drive/MyDrive/CV ASSTW/copyart/Copy of Art and humanities03_team6.jpg']\n",
        "image_dest=r'/content/drive/MyDrive/CV ASSTW/copyart'\n",
        "pan_stich(image_paths,image_dest)"
      ]
    },
    {
      "cell_type": "code",
      "execution_count": 73,
      "metadata": {
        "colab": {
          "base_uri": "https://localhost:8080/",
          "height": 0
        },
        "id": "LwukBnPSePDR",
        "outputId": "13dd17a7-e011-487b-c6ee-18f8cdd337a2"
      },
      "outputs": [
        {
          "output_type": "stream",
          "name": "stdout",
          "text": [
            "Your Panorama is ready!!!\n"
          ]
        }
      ],
      "source": [
        "loc=r'//content/drive/MyDrive/CV ASSTW/sciencecenter'\n",
        "image_paths=['/content/drive/MyDrive/CV ASSTW/sciencecenter/sciencecenter1.jpg','/content/drive/MyDrive/CV ASSTW/sciencecenter/sciencecenter2.jpg','/content/drive/MyDrive/CV ASSTW/sciencecenter/sciencecenter3.jpg']\n",
        "image_dest=r'/content/drive/MyDrive/CV ASSTW/sciencecenter'\n",
        "pan_stich(image_paths,image_dest)"
      ]
    },
    {
      "cell_type": "code",
      "source": [
        "!pip3 install depthai"
      ],
      "metadata": {
        "colab": {
          "base_uri": "https://localhost:8080/",
          "height": 0
        },
        "id": "jPDWY6lO-4Lc",
        "outputId": "c3e011f1-a4cf-4b56-871d-38788b18c38d"
      },
      "execution_count": 74,
      "outputs": [
        {
          "output_type": "stream",
          "name": "stdout",
          "text": [
            "Looking in indexes: https://pypi.org/simple, https://us-python.pkg.dev/colab-wheels/public/simple/\n",
            "Requirement already satisfied: depthai in /usr/local/lib/python3.8/dist-packages (2.19.1.0)\n"
          ]
        }
      ]
    },
    {
      "cell_type": "markdown",
      "source": [
        "QUESTION-3 \n"
      ],
      "metadata": {
        "id": "pLxRauamouM_"
      }
    },
    {
      "cell_type": "code",
      "source": [
        "import cv2\n",
        "import depthai as dai\n",
        "import numpy as np\n",
        "from copy import deepcopy\n"
      ],
      "metadata": {
        "id": "sTRprWb-mGOh"
      },
      "execution_count": 50,
      "outputs": []
    },
    {
      "cell_type": "code",
      "source": [
        "img = cv2.imread('/content/drive/MyDrive/CV ASSTW/frame8.jpg')\n",
        "img_bw = cv2.cvtColor(img, cv2.COLOR_BGR2GRAY)\n",
        "\n",
        "# initialising to 0\n",
        "intergal_img = [[0 for j in range(len(img_bw[0]))] for i in range(len(img_bw))]\n",
        "\n",
        "# compying values form img array\n",
        "for i in range(len(img_bw)):\n",
        "    for j in range(len(img_bw[0])):\n",
        "        intergal_img[i][j] = int(img_bw[i][j])\n",
        "\n",
        "# calculating the integral img\n",
        "for i in range(1, len(img_bw[0])):\n",
        "    intergal_img[0][i] += intergal_img[0][i-1] \n",
        "\n",
        "for j in range(1, len(img_bw)):\n",
        "    intergal_img[j][0] += intergal_img[j-1][0]\n",
        "    \n",
        "for i in range(1, len(img_bw)):\n",
        "    for j in range(1, len(img_bw[0])):\n",
        "        intergal_img[i][j] = intergal_img[i-1][j] + intergal_img[i][j-1] - intergal_img[i-1][j-1] + img_bw[i][j]\n",
        "        \n",
        "\n"
      ],
      "metadata": {
        "id": "V9ftgIbNmm_6"
      },
      "execution_count": 75,
      "outputs": []
    },
    {
      "cell_type": "code",
      "source": [
        "a = np.array(intergal_img)\n",
        "mat = np.matrix(a)\n",
        "with open('/content/drive/MyDrive/CV ASSTW/asst2pro.txt','wb') as f:\n",
        "    for line in mat:\n",
        "        np.savetxt(f, line, fmt=\"%d\")"
      ],
      "metadata": {
        "id": "tL_ug4L0m8dW"
      },
      "execution_count": 76,
      "outputs": []
    },
    {
      "cell_type": "code",
      "source": [
        "!pip3 install depthai \n"
      ],
      "metadata": {
        "colab": {
          "base_uri": "https://localhost:8080/",
          "height": 0
        },
        "id": "GSNNrsKdmheB",
        "outputId": "cc89d550-d8cf-4817-a27d-cad62e8119d4"
      },
      "execution_count": 53,
      "outputs": [
        {
          "output_type": "stream",
          "name": "stdout",
          "text": [
            "Looking in indexes: https://pypi.org/simple, https://us-python.pkg.dev/colab-wheels/public/simple/\n",
            "Requirement already satisfied: depthai in /usr/local/lib/python3.8/dist-packages (2.19.1.0)\n"
          ]
        }
      ]
    },
    {
      "cell_type": "markdown",
      "metadata": {
        "id": "Q_NNCyTaePDR"
      },
      "source": [
        "Question-4 & 5\n"
      ]
    },
    {
      "cell_type": "code",
      "execution_count": 55,
      "metadata": {
        "id": "9kuP9fKxePDR"
      },
      "outputs": [],
      "source": [
        "import cv2\n",
        "import numpy as np\n",
        "import sys\n",
        "\n",
        "class Image_Stitching():\n",
        "    def __init__(self,soro) :\n",
        "        self.ratio=0.85\n",
        "        self.min_match=10\n",
        "        if soro==\"SIFT\":\n",
        "          self.soro=cv2.xfeatures2d.SIFT_create()\n",
        "        else:\n",
        "          self.soro=cv2.ORB_create()\n",
        "        self.smoothing_window_size=800\n",
        "\n",
        "    def registration(self,img1,img2):\n",
        "        kp1, des1 = self.soro.detectAndCompute(img1, None)\n",
        "        kp2, des2 = self.soro.detectAndCompute(img2, None)\n",
        "        matcher = cv2.BFMatcher()\n",
        "        raw_matches = matcher.knnMatch(des1, des2, k=2)\n",
        "        good_points = []\n",
        "        good_matches=[]\n",
        "        for m1, m2 in raw_matches:\n",
        "            if m1.distance < self.ratio * m2.distance:\n",
        "                good_points.append((m1.trainIdx, m1.queryIdx))\n",
        "                good_matches.append([m1])\n",
        "        img3 = cv2.drawMatchesKnn(img1, kp1, img2, kp2, good_matches, None, flags=2)\n",
        "        cv2.imwrite('matching.jpg', img3)\n",
        "        if len(good_points) > self.min_match:\n",
        "            image1_kp = np.float32(\n",
        "                [kp1[i].pt for (_, i) in good_points])\n",
        "            image2_kp = np.float32(\n",
        "                [kp2[i].pt for (i, _) in good_points])\n",
        "            H, status = cv2.findHomography(image2_kp, image1_kp, cv2.RANSAC,5.0)\n",
        "        return H\n",
        "\n",
        "    def create_mask(self,img1,img2,version):\n",
        "        height_img1 = img1.shape[0]\n",
        "        width_img1 = img1.shape[1]\n",
        "        width_img2 = img2.shape[1]\n",
        "        height_panorama = height_img1\n",
        "        width_panorama = width_img1 +width_img2\n",
        "        offset = int(self.smoothing_window_size / 2)\n",
        "        barrier = img1.shape[1] - int(self.smoothing_window_size / 2)\n",
        "        mask = np.zeros((height_panorama, width_panorama))\n",
        "        if version== 'left_image':\n",
        "            mask[:, barrier - offset:barrier + offset ] = np.tile(np.linspace(1, 0, 2 * offset ).T, (height_panorama, 1))\n",
        "            mask[:, :barrier - offset] = 1\n",
        "        else:\n",
        "            mask[:, barrier - offset :barrier + offset ] = np.tile(np.linspace(0, 1, 2 * offset ).T, (height_panorama, 1))\n",
        "            mask[:, barrier + offset:] = 1\n",
        "        return cv2.merge([mask, mask, mask])\n",
        "\n",
        "    def blending(self,img1,img2):\n",
        "        H = self.registration(img1,img2)\n",
        "        height_img1 = img1.shape[0]\n",
        "        width_img1 = img1.shape[1]\n",
        "        width_img2 = img2.shape[1]\n",
        "        height_panorama = height_img1\n",
        "        width_panorama = width_img1 +width_img2\n",
        "\n",
        "        panorama1 = np.zeros((height_panorama, width_panorama, 3))\n",
        "        mask1 = self.create_mask(img1,img2,version='left_image')\n",
        "        panorama1[0:img1.shape[0], 0:img1.shape[1], :] = img1\n",
        "        panorama1 *= mask1\n",
        "        mask2 = self.create_mask(img1,img2,version='right_image')\n",
        "        panorama2 = cv2.warpPerspective(img2, H, (width_panorama, height_panorama))*mask2\n",
        "        result=panorama1+panorama2\n",
        "\n",
        "        rows, cols = np.where(result[:, :, 0] != 0)\n",
        "        min_row, max_row = min(rows), max(rows) + 1\n",
        "        min_col, max_col = min(cols), max(cols) + 1\n",
        "        final_result = result[min_row:max_row, min_col:max_col, :]\n",
        "        return final_result"
      ]
    },
    {
      "cell_type": "code",
      "source": [
        "img1 = cv2.imread(r'/content/drive/MyDrive/CV ASSTW/tdeck/TDeck_team06_1.jpeg')\n",
        "img2 = cv2.imread(r'/content/drive/MyDrive/CV ASSTW/tdeck/TDeck_team06_2.jpeg')\n",
        "final=Image_Stitching(\"SIFT\").blending(img1,img2)\n",
        "cv2.imwrite(r'/content/drive/MyDrive/CV ASSTW/tdeck/panaroma_t.jpeg', final)"
      ],
      "metadata": {
        "colab": {
          "base_uri": "https://localhost:8080/",
          "height": 0
        },
        "id": "adL9SwDp5JZA",
        "outputId": "54300e8f-840d-433d-fe33-3addfb41fa44"
      },
      "execution_count": 56,
      "outputs": [
        {
          "output_type": "execute_result",
          "data": {
            "text/plain": [
              "True"
            ]
          },
          "metadata": {},
          "execution_count": 56
        }
      ]
    },
    {
      "cell_type": "code",
      "source": [
        "img1 = cv2.imread(r'/content/drive/MyDrive/CV ASSTW/tdeck/TDeck_team06_1.jpeg')\n",
        "img2 = cv2.imread(r'/content/drive/MyDrive/CV ASSTW/tdeck/TDeck_team06_2.jpeg')\n",
        "final=Image_Stitching(\"ORB\").blending(img1,img2)\n",
        "cv2.imwrite(r'/content/drive/MyDrive/CV ASSTW/tdeck/panaroma_t.jpeg', final)"
      ],
      "metadata": {
        "colab": {
          "base_uri": "https://localhost:8080/",
          "height": 0
        },
        "id": "jD0IEXRI-dWX",
        "outputId": "29b0823a-824e-4610-a9f8-77fc893d415a"
      },
      "execution_count": 57,
      "outputs": [
        {
          "output_type": "execute_result",
          "data": {
            "text/plain": [
              "True"
            ]
          },
          "metadata": {},
          "execution_count": 57
        }
      ]
    }
  ],
  "metadata": {
    "kernelspec": {
      "display_name": "Python 3.10.7 64-bit",
      "language": "python",
      "name": "python3"
    },
    "language_info": {
      "codemirror_mode": {
        "name": "ipython",
        "version": 3
      },
      "file_extension": ".py",
      "mimetype": "text/x-python",
      "name": "python",
      "nbconvert_exporter": "python",
      "pygments_lexer": "ipython3",
      "version": "3.10.7"
    },
    "orig_nbformat": 4,
    "vscode": {
      "interpreter": {
        "hash": "aee8b7b246df8f9039afb4144a1f6fd8d2ca17a180786b69acc140d282b71a49"
      }
    },
    "colab": {
      "provenance": []
    }
  },
  "nbformat": 4,
  "nbformat_minor": 0
}